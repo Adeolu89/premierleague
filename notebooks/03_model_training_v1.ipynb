{
 "cells": [
  {
   "cell_type": "code",
   "execution_count": 108,
   "id": "815d5867",
   "metadata": {},
   "outputs": [],
   "source": [
    "import pandas as pd\n",
    "pd.set_option('display.max_columns', None)\n",
    "from sklearn.model_selection import TimeSeriesSplit, GridSearchCV\n",
    "from sklearn.ensemble import RandomForestClassifier\n",
    "from sklearn.metrics import accuracy_score, precision_score, recall_score, f1_score, confusion_matrix"
   ]
  },
  {
   "cell_type": "code",
   "execution_count": 82,
   "id": "32663aac",
   "metadata": {},
   "outputs": [],
   "source": [
    "df = pd.read_csv(\"../data/03_feature_engineered/2021-2022_engineered.csv\")\n",
    "df.set_index(['date', 'time'], inplace=True)\n",
    "df.sort_index(inplace=True)"
   ]
  },
  {
   "cell_type": "code",
   "execution_count": 83,
   "id": "abdf0a86",
   "metadata": {},
   "outputs": [],
   "source": [
    "df_2021_2022 = df.copy()"
   ]
  },
  {
   "cell_type": "code",
   "execution_count": 84,
   "id": "4359e0e5",
   "metadata": {},
   "outputs": [],
   "source": [
    "# drop columns about in-game stats \n",
    "df_2021_2022.drop(columns=['home_goals', 'away_goals', 'home_poss', 'away_poss', 'home_xg', \n",
    "                           'away_xg', 'home_sh', 'away_sh', 'home_shot_on_target', 'away_shot_on_target'], inplace=True)"
   ]
  },
  {
   "cell_type": "code",
   "execution_count": null,
   "id": "a704eb9b",
   "metadata": {},
   "outputs": [],
   "source": [
    "df_2021_2022"
   ]
  },
  {
   "cell_type": "code",
   "execution_count": 86,
   "id": "419d99f4",
   "metadata": {},
   "outputs": [],
   "source": [
    "# Get unique team names from the dataframe\n",
    "team_names = df['home_team'].unique()\n",
    "\n",
    "# Create a dictionary with team names as keys and 0 as values\n",
    "team_points = {team: 0 for team in team_names}"
   ]
  },
  {
   "cell_type": "code",
   "execution_count": null,
   "id": "e075ea60",
   "metadata": {},
   "outputs": [],
   "source": [
    "mw1 = df_2021_2022[df_2021_2022['round'] == 'Matchweek 1']\n",
    "mw1"
   ]
  },
  {
   "cell_type": "code",
   "execution_count": 88,
   "id": "3f74e36f",
   "metadata": {},
   "outputs": [],
   "source": [
    "\n",
    "for row in mw1.itertuples():\n",
    "    if row.result == 1:\n",
    "        team_points[row.home_team] += 3\n",
    "    elif row.result == -1:\n",
    "        team_points[row.away_team] += 3\n",
    "    else:\n",
    "        # Corrected logic for a draw\n",
    "        team_points[row.home_team] += 1\n",
    "        team_points[row.away_team] += 1"
   ]
  },
  {
   "cell_type": "code",
   "execution_count": 90,
   "id": "59807aca",
   "metadata": {},
   "outputs": [],
   "source": [
    "df_clean = df_2021_2022.dropna()"
   ]
  },
  {
   "cell_type": "code",
   "execution_count": 92,
   "id": "05144c92",
   "metadata": {},
   "outputs": [],
   "source": [
    "not_features = ['round','home_team','away_team','venue','result']\n",
    "features = [col for col in df_2021_2022.columns if col not in not_features]"
   ]
  },
  {
   "cell_type": "code",
   "execution_count": 93,
   "id": "4db3d051",
   "metadata": {},
   "outputs": [],
   "source": [
    "X = df_clean[features]\n",
    "y = df_clean['result']"
   ]
  },
  {
   "cell_type": "code",
   "execution_count": 95,
   "id": "bbdf2699",
   "metadata": {},
   "outputs": [],
   "source": [
    "cutoff_date = '2022-02-12'\n",
    "X_train = X[X.index.get_level_values('date') < cutoff_date]\n",
    "y_train = y[y.index.get_level_values('date') < cutoff_date]\n",
    "X_test = X[X.index.get_level_values('date') >= cutoff_date]\n",
    "y_test = y[y.index.get_level_values('date') >= cutoff_date]"
   ]
  },
  {
   "cell_type": "code",
   "execution_count": 96,
   "id": "f1e9366e",
   "metadata": {},
   "outputs": [
    {
     "name": "stdout",
     "output_type": "stream",
     "text": [
      "X_train shape: (214, 61)\n",
      "y_train shape: (214,)\n",
      "X_test shape: (156, 61)\n",
      "y_test shape: (156,)\n"
     ]
    }
   ],
   "source": [
    "# Ensure X and y are aligned\n",
    "print(f\"X_train shape: {X_train.shape}\")\n",
    "print(f\"y_train shape: {y_train.shape}\")\n",
    "print(f\"X_test shape: {X_test.shape}\")\n",
    "print(f\"y_test shape: {y_test.shape}\")\n",
    "assert len(X_train) == len(y_train), \"Training data misalignment!\"\n",
    "assert len(X_test) == len(y_test), \"Test data misalignment!\""
   ]
  },
  {
   "cell_type": "code",
   "execution_count": null,
   "id": "8868c56c",
   "metadata": {},
   "outputs": [],
   "source": [
    "rf_model = RandomForestClassifier(random_state=42)\n",
    "\n",
    "param_grid = {\n",
    "    'n_estimators': [50, 100, 200],       \n",
    "    'max_depth': [None, 10, 20],          \n",
    "    'min_samples_split': [2, 5, 10],      \n",
    "    'min_samples_leaf': [1, 2, 4]         \n",
    "}\n",
    "\n",
    "tcsv = TimeSeriesSplit(n_splits=4)"
   ]
  },
  {
   "cell_type": "code",
   "execution_count": null,
   "id": "86910fd1",
   "metadata": {},
   "outputs": [],
   "source": [
    "grid_search = GridSearchCV(\n",
    "    estimator=rf_model,\n",
    "    param_grid=param_grid,\n",
    "    cv=tcsv,\n",
    "    scoring='accuracy',\n",
    "    n_jobs=-1,\n",
    "    verbose=1 \n",
    ")"
   ]
  },
  {
   "cell_type": "code",
   "execution_count": 123,
   "id": "78b4dec9",
   "metadata": {},
   "outputs": [
    {
     "name": "stdout",
     "output_type": "stream",
     "text": [
      "Starting hyperparameter tuning with Time Series Cross-Validation...\n",
      "Fitting 4 folds for each of 81 candidates, totalling 324 fits\n",
      "Tuning complete.\n"
     ]
    }
   ],
   "source": [
    "print(\"Starting hyperparameter tuning with Time Series Cross-Validation...\")\n",
    "grid_search.fit(X_train, y_train)\n",
    "print(\"Tuning complete.\")"
   ]
  },
  {
   "cell_type": "code",
   "execution_count": null,
   "id": "4e8b02be",
   "metadata": {},
   "outputs": [
    {
     "name": "stdout",
     "output_type": "stream",
     "text": [
      "Best Hyperparameters: {'max_depth': None, 'min_samples_leaf': 4, 'min_samples_split': 2, 'n_estimators': 50}\n",
      "\n",
      "Final Model Performance:\n",
      "Accuracy: 53.21%\n",
      "Macro F1-Score: 46.77%\n"
     ]
    },
    {
     "data": {
      "text/html": [
       "<div>\n",
       "<style scoped>\n",
       "    .dataframe tbody tr th:only-of-type {\n",
       "        vertical-align: middle;\n",
       "    }\n",
       "\n",
       "    .dataframe tbody tr th {\n",
       "        vertical-align: top;\n",
       "    }\n",
       "\n",
       "    .dataframe thead th {\n",
       "        text-align: right;\n",
       "    }\n",
       "</style>\n",
       "<table border=\"1\" class=\"dataframe\">\n",
       "  <thead>\n",
       "    <tr style=\"text-align: right;\">\n",
       "      <th></th>\n",
       "      <th>Pred: Away</th>\n",
       "      <th>Pred: Draw</th>\n",
       "      <th>Pred: Home</th>\n",
       "    </tr>\n",
       "  </thead>\n",
       "  <tbody>\n",
       "    <tr>\n",
       "      <th>Actual: Away Win</th>\n",
       "      <td>25</td>\n",
       "      <td>13</td>\n",
       "      <td>19</td>\n",
       "    </tr>\n",
       "    <tr>\n",
       "      <th>Actual: Draw</th>\n",
       "      <td>8</td>\n",
       "      <td>7</td>\n",
       "      <td>12</td>\n",
       "    </tr>\n",
       "    <tr>\n",
       "      <th>Actual: Home Win</th>\n",
       "      <td>11</td>\n",
       "      <td>10</td>\n",
       "      <td>51</td>\n",
       "    </tr>\n",
       "  </tbody>\n",
       "</table>\n",
       "</div>"
      ],
      "text/plain": [
       "                  Pred: Away  Pred: Draw  Pred: Home\n",
       "Actual: Away Win          25          13          19\n",
       "Actual: Draw               8           7          12\n",
       "Actual: Home Win          11          10          51"
      ]
     },
     "execution_count": 124,
     "metadata": {},
     "output_type": "execute_result"
    }
   ],
   "source": [
    "\n",
    "print(f\"Best Hyperparameters: {grid_search.best_params_}\")\n",
    "\n",
    "best_rf_model = grid_search.best_estimator_\n",
    "\n",
    "\n",
    "final_predictions = best_rf_model.predict(X_test)\n",
    "final_accuracy = accuracy_score(y_test, final_predictions)\n",
    "final_f1 = f1_score(y_test, final_predictions, average='macro')\n",
    "\n",
    "print(f\"\\nFinal Model Performance:\")\n",
    "print(f\"Accuracy: {final_accuracy:.2%}\")\n",
    "print(f\"Macro F1-Score: {final_f1:.2%}\")\n",
    "\n",
    "cm = confusion_matrix(y_test, final_predictions)\n",
    "cm_df = pd.DataFrame(\n",
    "    cm, \n",
    "    index=['Actual: Away Win', 'Actual: Draw', 'Actual: Home Win'],\n",
    "    columns=['Pred: Away', 'Pred: Draw', 'Pred: Home']\n",
    ")\n",
    "cm_df\n"
   ]
  }
 ],
 "metadata": {
  "kernelspec": {
   "display_name": "venv",
   "language": "python",
   "name": "python3"
  },
  "language_info": {
   "codemirror_mode": {
    "name": "ipython",
    "version": 3
   },
   "file_extension": ".py",
   "mimetype": "text/x-python",
   "name": "python",
   "nbconvert_exporter": "python",
   "pygments_lexer": "ipython3",
   "version": "3.13.5"
  }
 },
 "nbformat": 4,
 "nbformat_minor": 5
}
